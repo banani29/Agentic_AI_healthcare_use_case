{
 "cells": [
  {
   "cell_type": "code",
   "execution_count": 32,
   "id": "4926c8a6-e882-43fd-b5d3-649aae52e65e",
   "metadata": {},
   "outputs": [],
   "source": [
    "import pandas as pd\n",
    "import random\n",
    "import json"
   ]
  },
  {
   "cell_type": "code",
   "execution_count": 33,
   "id": "5617d492-bd25-42e5-bd98-a1bf72f8d269",
   "metadata": {},
   "outputs": [
    {
     "data": {
      "text/html": [
       "<div>\n",
       "<style scoped>\n",
       "    .dataframe tbody tr th:only-of-type {\n",
       "        vertical-align: middle;\n",
       "    }\n",
       "\n",
       "    .dataframe tbody tr th {\n",
       "        vertical-align: top;\n",
       "    }\n",
       "\n",
       "    .dataframe thead th {\n",
       "        text-align: right;\n",
       "    }\n",
       "</style>\n",
       "<table border=\"1\" class=\"dataframe\">\n",
       "  <thead>\n",
       "    <tr style=\"text-align: right;\">\n",
       "      <th></th>\n",
       "      <th>Sentence</th>\n",
       "      <th>Entities</th>\n",
       "    </tr>\n",
       "  </thead>\n",
       "  <tbody>\n",
       "    <tr>\n",
       "      <th>0</th>\n",
       "      <td>Mr. John Doe presents with shortness of breath...</td>\n",
       "      <td>[problem:shortness of breath, problem:elevated...</td>\n",
       "    </tr>\n",
       "    <tr>\n",
       "      <th>1</th>\n",
       "      <td>Patient reports experiencing fatigue and dizzi...</td>\n",
       "      <td>[problem:fatigue, problem:dizziness, duration:...</td>\n",
       "    </tr>\n",
       "    <tr>\n",
       "      <th>2</th>\n",
       "      <td>Initiated Lisinopril 10mg daily for hypertensi...</td>\n",
       "      <td>[treatment:Lisinopril 10mg, problem:hypertension]</td>\n",
       "    </tr>\n",
       "  </tbody>\n",
       "</table>\n",
       "</div>"
      ],
      "text/plain": [
       "                                            Sentence  \\\n",
       "0  Mr. John Doe presents with shortness of breath...   \n",
       "1  Patient reports experiencing fatigue and dizzi...   \n",
       "2  Initiated Lisinopril 10mg daily for hypertensi...   \n",
       "\n",
       "                                            Entities  \n",
       "0  [problem:shortness of breath, problem:elevated...  \n",
       "1  [problem:fatigue, problem:dizziness, duration:...  \n",
       "2  [treatment:Lisinopril 10mg, problem:hypertension]  "
      ]
     },
     "execution_count": 33,
     "metadata": {},
     "output_type": "execute_result"
    }
   ],
   "source": [
    "#Sample data very similar to i2b2 2010 NER Dataset as this want available for download\n",
    "data = {\n",
    "    \"Sentence\": [\n",
    "        \"Mr. John Doe presents with shortness of breath and elevated blood pressure.\",\n",
    "        \"Patient reports experiencing fatigue and dizziness for approximately 1 week.\",\n",
    "        \"Initiated Lisinopril 10mg daily for hypertension management.\",\n",
    "        \"Ordered complete blood count and ECG to rule out cardiac abnormalities.\",\n",
    "        \"Dr. Patel advised lifestyle modifications and scheduled a stress test in 10 days.\",\n",
    "        \"No prior history of myocardial infarction or cerebrovascular events documented.\",\n",
    "        \"Complains of lower back pain exacerbated by movement over the last 3 days.\",\n",
    "        \"Prescribed Ibuprofen 400mg TID along with physical therapy sessions.\",\n",
    "        \"Scheduled follow-up appointment with neurologist next Thursday.\",\n",
    "        \"Family history includes Type 2 diabetes and chronic kidney disease.\"\n",
    "    ],\n",
    "    \"Entities\": [\n",
    "        [\"problem:shortness of breath\", \"problem:elevated blood pressure\"],\n",
    "        [\"problem:fatigue\", \"problem:dizziness\", \"duration:1 week\"],\n",
    "        [\"treatment:Lisinopril 10mg\", \"problem:hypertension\"],\n",
    "        [\"test:complete blood count\", \"test:ECG\", \"problem:cardiac abnormalities\"],\n",
    "        [\"doctor:Dr. Patel\", \"treatment:lifestyle modifications\", \"test:stress test\", \"duration:10 days\"],\n",
    "        [\"problem:myocardial infarction\", \"problem:cerebrovascular events\"],\n",
    "        [\"problem:lower back pain\", \"duration:3 days\"],\n",
    "        [\"treatment:Ibuprofen 400mg\", \"treatment:physical therapy\"],\n",
    "        [\"test:follow-up appointment\", \"doctor:neurologist\", \"duration:next Thursday\"],\n",
    "        [\"problem:Type 2 diabetes\", \"problem:chronic kidney disease\", \"entity_type:family history\"]\n",
    "    ]\n",
    "}\n",
    "# Convert to DataFrame for easier visualization\n",
    "df = pd.DataFrame(data)\n",
    "df.head(3)"
   ]
  },
  {
   "cell_type": "code",
   "execution_count": 34,
   "id": "66c29bd5-0dc9-4410-a738-802eaae550c2",
   "metadata": {},
   "outputs": [],
   "source": [
    "# Simulated Agent Invocation\n",
    "\n",
    "def supervisor_agent(intent: str, payload: dict):\n",
    "    if intent == \"check_in\":\n",
    "        return patient_checkin_agent(payload)\n",
    "    elif intent == \"start_consultation\":\n",
    "        return soap_compiler_agent(payload)\n",
    "    else:\n",
    "        raise ValueError(\"Unknown intent\")"
   ]
  },
  {
   "cell_type": "code",
   "execution_count": 35,
   "id": "f8aa212a-e8b6-4e23-af0e-a85b4c65656b",
   "metadata": {},
   "outputs": [],
   "source": [
    "# Simulated Tools and Models\n",
    "def preprocess(data):\n",
    "    return {\"processed\": data}\n",
    "\n",
    "def code_interpreter(data):\n",
    "    return preprocess(data)"
   ]
  },
  {
   "cell_type": "code",
   "execution_count": 36,
   "id": "5522b1e3-3daa-4fa8-8c02-e64c3fc181f1",
   "metadata": {},
   "outputs": [],
   "source": [
    "# Common Tool\n",
    "\n",
    "def open_search_vector_query(query_text):\n",
    "    return f\"Results for: {query_text}\"\n",
    "\n",
    "def query_knowledge_base(query_text):\n",
    "    return open_search_vector_query(query_text)\n",
    "\n",
    "class Model:\n",
    "    def predict(self, input_features):\n",
    "        return random.uniform(15, 120)\n",
    "\n",
    "class NER:\n",
    "    def extract(self, input_features):\n",
    "        idx = random.randint(0, len(data[\"Entities\"]) - 1)\n",
    "        return data[\"Entities\"][idx]\n",
    "\n",
    "class SOAPClassifier:\n",
    "    def predict(self, input_features):\n",
    "        return {\n",
    "            \"subjective\": \"Patient complains of headache.\",\n",
    "            \"objective\": \"Vitals normal.\",\n",
    "            \"assessment\": \"Possible migraine.\",\n",
    "            \"plan\": \"Prescribe rest and monitor.\"\n",
    "        }"
   ]
  },
  {
   "cell_type": "code",
   "execution_count": 37,
   "id": "1ef35f48-eac7-41f6-be5b-f2c0b31fb4da",
   "metadata": {},
   "outputs": [],
   "source": [
    "#combining tools\n",
    "\n",
    "lstm_model = Model()\n",
    "xgboost_model = Model()\n",
    "clinical_ner_model = NER()\n",
    "soap_classifier = SOAPClassifier()"
   ]
  },
  {
   "cell_type": "code",
   "execution_count": 38,
   "id": "7c8899e3-e973-498b-a4d3-ce8f98f9a218",
   "metadata": {},
   "outputs": [],
   "source": [
    "#memory implementation via Action Group\n",
    "\n",
    "# Agent Functions (from user code)\n",
    "short_term_memory = {}\n",
    "long_term_memory = {}\n",
    "\n",
    "def action_group_execute(model_type, input_features):\n",
    "    if model_type == \"wait_time\":\n",
    "        return lstm_model.predict(input_features), xgboost_model.predict(input_features)\n",
    "    elif model_type == \"soap_note\":\n",
    "        return {\n",
    "            \"entities\": clinical_ner_model.extract(input_features),\n",
    "            \"soap_structure\": soap_classifier.predict(input_features)\n",
    "        }\n",
    "    else:\n",
    "        raise ValueError(\"Unsupported model type\")\n",
    "\n",
    "def update_memory(patient_id, value, memory_type=\"short\"):\n",
    "    if memory_type == \"short\":\n",
    "        short_term_memory[patient_id] = value\n",
    "    else:\n",
    "        long_term_memory.setdefault(patient_id, []).append(value)"
   ]
  },
  {
   "cell_type": "code",
   "execution_count": 39,
   "id": "07beeb53-69eb-4fd8-beeb-88facc9afcca",
   "metadata": {},
   "outputs": [],
   "source": [
    "def patient_checkin_agent(payload):\n",
    "    data = code_interpreter(payload[\"qms_event\"])\n",
    "    context = query_knowledge_base(\"clinic queue patterns\")\n",
    "        prediction = action_group_execute(\"wait_time\", data)\n",
    "    update_memory(payload[\"patient_id\"], prediction, memory_type=\"short\")\n",
    "    return {\n",
    "        \"api\": \"/get_estimated_wait_time\",\n",
    "        \"response\": {\n",
    "            \"patient_id\": payload[\"patient_id\"],\n",
    "            \"estimated_wait\": round(sum(prediction) / 2, 2),\n",
    "            \"context\": context\n",
    "        }\n",
    "    }"
   ]
  },
  {
   "cell_type": "code",
   "execution_count": 40,
   "id": "746103e4-1074-40c4-8464-62b197273ad0",
   "metadata": {},
   "outputs": [],
   "source": [
    "def soap_compiler_agent(payload):\n",
    "    transcript = code_interpreter(payload[\"transcript\"])\n",
    "    history = query_knowledge_base(f\"guidelines for {payload['chief_complaint']}\")\n",
    "    result = action_group_execute(\"soap_note\", transcript)\n",
    "    update_memory(payload[\"patient_id\"], result, memory_type=\"long\")\n",
    "    return {\n",
    "        \"api\": \"/generate_soap_note\",\n",
    "        \"response\": {\n",
    "            \"patient_id\": payload[\"patient_id\"],\n",
    "            \"soap_note\": result,\n",
    "            \"context\": history\n",
    "        }\n",
    "    }"
   ]
  },
  {
   "cell_type": "code",
   "execution_count": 41,
   "id": "3133c54f-173b-49be-820d-ea0e8fda90fd",
   "metadata": {},
   "outputs": [
    {
     "data": {
      "text/plain": [
       "({'api': '/get_estimated_wait_time',\n",
       "  'response': {'patient_id': 'P001',\n",
       "   'estimated_wait': 80.8,\n",
       "   'context': 'Results for: clinic queue patterns'}},\n",
       " {'api': '/generate_soap_note',\n",
       "  'response': {'patient_id': 'P001',\n",
       "   'soap_note': {'entities': ['problem:fatigue',\n",
       "     'problem:dizziness',\n",
       "     'duration:1 week'],\n",
       "    'soap_structure': {'subjective': 'Patient complains of headache.',\n",
       "     'objective': 'Vitals normal.',\n",
       "     'assessment': 'Possible migraine.',\n",
       "     'plan': 'Prescribe rest and monitor.'}},\n",
       "   'context': 'Results for: guidelines for headache'}})"
      ]
     },
     "execution_count": 41,
     "metadata": {},
     "output_type": "execute_result"
    }
   ],
   "source": [
    "checkin_result = supervisor_agent(\"check_in\", {\"patient_id\": \"P001\", \"qms_event\": {\"queue_length\": 5}})\n",
    "soap_result = supervisor_agent(\"start_consultation\", {\n",
    "    \"patient_id\": \"P001\", \n",
    "    \"transcript\": \"Patient complains of persistent headache and fatigue.\",\n",
    "    \"chief_complaint\": \"headache\"\n",
    "})\n",
    "\n",
    "checkin_result, soap_result"
   ]
  },
  {
   "cell_type": "code",
   "execution_count": 42,
   "id": "b2ef946c-32a3-4dfd-91c3-cee2a065aff4",
   "metadata": {},
   "outputs": [
    {
     "name": "stdout",
     "output_type": "stream",
     "text": [
      "Check-In Agent Result:\n",
      "API: /get_estimated_wait_time\n",
      "Patient ID: P001\n",
      "Estimated Wait Time: 80.8 minutes\n",
      "Context Info: Results for: clinic queue patterns\n",
      "\n",
      "SOAP Compiler Agent Result:\n",
      "API: /generate_soap_note\n",
      "Patient ID: P001\n",
      "Extracted Entities: problem:fatigue, problem:dizziness, duration:1 week\n",
      "SOAP Note Structure:\n",
      "  Subjective: Patient complains of headache.\n",
      "  Objective: Vitals normal.\n",
      "  Assessment: Possible migraine.\n",
      "  Plan: Prescribe rest and monitor.\n",
      "Context Info: Results for: guidelines for headache\n"
     ]
    }
   ],
   "source": [
    "# Check-In Result\n",
    "print(\"Check-In Agent Result:\")\n",
    "print(f\"API: {checkin_result['api']}\")\n",
    "print(f\"Patient ID: {checkin_result['response']['patient_id']}\")\n",
    "print(f\"Estimated Wait Time: {checkin_result['response']['estimated_wait']} minutes\")\n",
    "print(f\"Context Info: {checkin_result['response']['context']}\\n\")\n",
    "\n",
    "# SOAP Note Result\n",
    "print(\"SOAP Compiler Agent Result:\")\n",
    "print(f\"API: {soap_result['api']}\")\n",
    "print(f\"Patient ID: {soap_result['response']['patient_id']}\")\n",
    "print(\"Extracted Entities:\", \", \".join(soap_result['response']['soap_note']['entities']))\n",
    "print(\"SOAP Note Structure:\")\n",
    "for section, text in soap_result['response']['soap_note']['soap_structure'].items():\n",
    "    print(f\"  {section.title()}: {text}\")\n",
    "print(f\"Context Info: {soap_result['response']['context']}\")"
   ]
  },
  {
   "cell_type": "code",
   "execution_count": 43,
   "id": "0318ee39-0eca-4187-9b6f-198be8594cc6",
   "metadata": {},
   "outputs": [],
   "source": [
    "# Simulated clinician update to diagnosis\n",
    "soap_result['response']['soap_note']['soap_structure']['assessment'] = \"Confirmed tension-type headache\"\n",
    "\n",
    "# Update long-term memory\n",
    "long_term_memory.setdefault(\"P001\", []).append(soap_result['response'])"
   ]
  },
  {
   "cell_type": "code",
   "execution_count": null,
   "id": "5034fe22-4c5c-4c34-bd56-c52ec205c065",
   "metadata": {},
   "outputs": [],
   "source": []
  }
 ],
 "metadata": {
  "kernelspec": {
   "display_name": "Python 3 (ipykernel)",
   "language": "python",
   "name": "python3"
  },
  "language_info": {
   "codemirror_mode": {
    "name": "ipython",
    "version": 3
   },
   "file_extension": ".py",
   "mimetype": "text/x-python",
   "name": "python",
   "nbconvert_exporter": "python",
   "pygments_lexer": "ipython3",
   "version": "3.9.6"
  }
 },
 "nbformat": 4,
 "nbformat_minor": 5
}
